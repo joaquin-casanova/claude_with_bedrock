{
 "cells": [
  {
   "cell_type": "markdown",
   "id": "f18ee0c6-82c8-4e81-b38e-b166ec48584c",
   "metadata": {},
   "source": [
    "# First steps with Claude throught Bedrock (simple approach)"
   ]
  },
  {
   "cell_type": "code",
   "execution_count": 90,
   "id": "927a373c-46e5-4378-9576-d1aef046389e",
   "metadata": {},
   "outputs": [],
   "source": [
    "import os\n",
    "import boto3\n",
    "from dotenv import load_dotenv"
   ]
  },
  {
   "cell_type": "code",
   "execution_count": 91,
   "id": "a509e627-c301-4b17-9b0f-5e9fe7fa1f0b",
   "metadata": {},
   "outputs": [
    {
     "data": {
      "text/plain": [
       "True"
      ]
     },
     "execution_count": 91,
     "metadata": {},
     "output_type": "execute_result"
    }
   ],
   "source": [
    "load_dotenv() # load the environment variables"
   ]
  },
  {
   "cell_type": "code",
   "execution_count": 98,
   "id": "3f199fae-5077-48a6-9cad-160e59337211",
   "metadata": {},
   "outputs": [],
   "source": [
    "profile_name=os.getenv(\"PROFILE_NAME\") #  I currently log in using SSO."
   ]
  },
  {
   "cell_type": "code",
   "execution_count": 92,
   "id": "ccbc5aed-845c-4cba-bf3d-96adad05b2d1",
   "metadata": {},
   "outputs": [],
   "source": [
    "session = boto3.session.Session(profile_name=profile_name, region_name=\"us-west-2\")"
   ]
  },
  {
   "cell_type": "code",
   "execution_count": 93,
   "id": "d3790293-e1b2-4567-90db-59a013164d96",
   "metadata": {},
   "outputs": [],
   "source": [
    "client = session.client(\"bedrock-runtime\", region_name=\"us-west-2\")\n",
    "model_id = \"us.anthropic.claude-sonnet-4-20250514-v1:0\" # this refer to inference profile ID\n",
    "\n",
    "user_message = {\n",
    "    \"role\": \"user\",\n",
    "    \"content\": [\n",
    "        {\"text\": \"What's 1+1?\"}\n",
    "    ]\n",
    "}\n",
    "\n",
    "response = client.converse(\n",
    "    modelId = model_id,\n",
    "    messages = [user_message]\n",
    ")"
   ]
  },
  {
   "cell_type": "code",
   "execution_count": 97,
   "id": "c08b9e1a-cd90-4e12-b40f-e2de39ba194f",
   "metadata": {},
   "outputs": [
    {
     "data": {
      "text/plain": [
       "{'role': 'assistant', 'content': [{'text': '1+1 = 2'}]}"
      ]
     },
     "execution_count": 97,
     "metadata": {},
     "output_type": "execute_result"
    }
   ],
   "source": [
    "response[\"output\"][\"message\"] "
   ]
  },
  {
   "cell_type": "code",
   "execution_count": null,
   "id": "8ad436d5-1ead-4e56-b516-0742bc5e5696",
   "metadata": {},
   "outputs": [],
   "source": []
  }
 ],
 "metadata": {
  "kernelspec": {
   "display_name": "Python 3 (ipykernel)",
   "language": "python",
   "name": "python3"
  },
  "language_info": {
   "codemirror_mode": {
    "name": "ipython",
    "version": 3
   },
   "file_extension": ".py",
   "mimetype": "text/x-python",
   "name": "python",
   "nbconvert_exporter": "python",
   "pygments_lexer": "ipython3",
   "version": "3.11.8"
  }
 },
 "nbformat": 4,
 "nbformat_minor": 5
}
