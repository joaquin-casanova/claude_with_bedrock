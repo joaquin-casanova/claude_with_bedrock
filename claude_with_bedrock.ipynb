{
 "cells": [
  {
   "cell_type": "markdown",
   "id": "f18ee0c6-82c8-4e81-b38e-b166ec48584c",
   "metadata": {},
   "source": [
    "# First steps with Claude throught Bedrock"
   ]
  },
  {
   "cell_type": "markdown",
   "id": "eadbb8dd-ab59-4ef4-899e-9f66b0fcae1f",
   "metadata": {},
   "source": [
    "## The most simple approach"
   ]
  },
  {
   "cell_type": "code",
   "execution_count": 2,
   "id": "927a373c-46e5-4378-9576-d1aef046389e",
   "metadata": {},
   "outputs": [],
   "source": [
    "import os\n",
    "import boto3\n",
    "from dotenv import load_dotenv"
   ]
  },
  {
   "cell_type": "code",
   "execution_count": 3,
   "id": "a509e627-c301-4b17-9b0f-5e9fe7fa1f0b",
   "metadata": {},
   "outputs": [
    {
     "data": {
      "text/plain": [
       "True"
      ]
     },
     "execution_count": 3,
     "metadata": {},
     "output_type": "execute_result"
    }
   ],
   "source": [
    "load_dotenv() # load the environment variables"
   ]
  },
  {
   "cell_type": "code",
   "execution_count": 4,
   "id": "3f199fae-5077-48a6-9cad-160e59337211",
   "metadata": {},
   "outputs": [],
   "source": [
    "profile_name=os.getenv(\"PROFILE_NAME\") #  I currently log in using SSO."
   ]
  },
  {
   "cell_type": "code",
   "execution_count": 5,
   "id": "ccbc5aed-845c-4cba-bf3d-96adad05b2d1",
   "metadata": {},
   "outputs": [],
   "source": [
    "session = boto3.session.Session(profile_name=profile_name, region_name=\"us-west-2\")"
   ]
  },
  {
   "cell_type": "code",
   "execution_count": 6,
   "id": "d3790293-e1b2-4567-90db-59a013164d96",
   "metadata": {},
   "outputs": [],
   "source": [
    "client = session.client(\"bedrock-runtime\", region_name=\"us-west-2\")\n",
    "model_id = \"us.anthropic.claude-sonnet-4-20250514-v1:0\" # this refer to inference profile ID\n",
    "\n",
    "user_message = {\n",
    "    \"role\": \"user\",\n",
    "    \"content\": [\n",
    "        {\"text\": \"What's 1+1?\"}\n",
    "    ]\n",
    "}\n",
    "\n",
    "response = client.converse(\n",
    "    modelId = model_id,\n",
    "    messages = [user_message]\n",
    ")"
   ]
  },
  {
   "cell_type": "code",
   "execution_count": 7,
   "id": "c08b9e1a-cd90-4e12-b40f-e2de39ba194f",
   "metadata": {},
   "outputs": [
    {
     "data": {
      "text/plain": [
       "{'role': 'assistant', 'content': [{'text': '1 + 1 = 2'}]}"
      ]
     },
     "execution_count": 7,
     "metadata": {},
     "output_type": "execute_result"
    }
   ],
   "source": [
    "response[\"output\"][\"message\"] "
   ]
  },
  {
   "cell_type": "markdown",
   "id": "517b0509-43f6-4503-bbff-5ef09dbeba4d",
   "metadata": {},
   "source": [
    "## Multi-turn approach"
   ]
  },
  {
   "cell_type": "code",
   "execution_count": 8,
   "id": "238fad30-8f5e-4bf6-aa96-e9a6036a0d10",
   "metadata": {},
   "outputs": [],
   "source": [
    "client = session.client(\"bedrock-runtime\", region_name=\"us-west-2\")\n",
    "model_id = \"us.anthropic.claude-sonnet-4-20250514-v1:0\" # this refer to inference profile ID\n",
    "\n",
    "def add_user_message(messages: list, text: str):\n",
    "        \n",
    "    user_message = {\n",
    "        \"role\": \"user\",\n",
    "        \"content\": [\n",
    "            {\"text\": text}\n",
    "        ]\n",
    "    }\n",
    "\n",
    "    messages.append(user_message)\n",
    "    \n",
    "\n",
    "def add_assistant_message(messages: list, text: str):\n",
    "        \n",
    "    assistant_message = {\n",
    "        \"role\": \"assistant\",\n",
    "        \"content\": [\n",
    "            {\"text\": text}\n",
    "        ]\n",
    "    }\n",
    "\n",
    "    messages.append(assistant_message) \n",
    "\n",
    "def chat(messages: list):\n",
    "    response = client.converse(\n",
    "        modelId = model_id,\n",
    "        messages = messages\n",
    "    )\n",
    "\n",
    "    return response[\"output\"][\"message\"][\"content\"][0][\"text\"]"
   ]
  },
  {
   "cell_type": "code",
   "execution_count": 9,
   "id": "0ff93956-578d-4a8e-9bb1-f6b7ad470ec7",
   "metadata": {},
   "outputs": [
    {
     "data": {
      "text/plain": [
       "'If we add 3 more to the previous result of 2:\\n\\n2 + 3 = 5'"
      ]
     },
     "execution_count": 9,
     "metadata": {},
     "output_type": "execute_result"
    }
   ],
   "source": [
    "# started with an empty list of messages where we maintaining the context\n",
    "messages = []\n",
    "\n",
    "# initial user question\n",
    "add_user_message(messages, \"What's 1+1?\")\n",
    "\n",
    "# pass the list of messages into chat\n",
    "answer = chat(messages)\n",
    "\n",
    "# take the answer from the assistant and added it into the message list  \n",
    "add_assistant_message(messages, answer)\n",
    "\n",
    "# followup question\n",
    "add_user_message(messages, \"added 3 more, what's the result?\")\n",
    "\n",
    "# chat again\n",
    "answer = chat(messages)\n",
    "\n",
    "answer"
   ]
  },
  {
   "cell_type": "markdown",
   "id": "564e1941-6453-4803-b331-44fb0fd605cf",
   "metadata": {},
   "source": [
    "### Query Processing"
   ]
  },
  {
   "cell_type": "code",
   "execution_count": 10,
   "id": "c156e1ca-e675-4ec1-994a-5ba17473c89d",
   "metadata": {},
   "outputs": [],
   "source": [
    "messages=[]\n",
    "client = session.client(\"bedrock-runtime\", region_name=\"us-west-2\")\n",
    "model_id = \"us.anthropic.claude-sonnet-4-20250514-v1:0\" # this refer to inference profile ID\n",
    "\n",
    "def process_query(query: str):\n",
    "    \n",
    "    add_user_message(messages, query)\n",
    "    answer = chat(messages)\n",
    "    add_assistant_message(messages, answer)\n",
    "    return answer\n",
    "                "
   ]
  },
  {
   "cell_type": "markdown",
   "id": "b478cec2-b2fd-4bca-a6c0-c4a386f6c1e0",
   "metadata": {},
   "source": [
    "# Chat Loop"
   ]
  },
  {
   "cell_type": "code",
   "execution_count": 18,
   "id": "67cc6a04-3327-471c-8e62-e27cb3e1a5d2",
   "metadata": {},
   "outputs": [],
   "source": [
    "def chat_loop():\n",
    "    print(\"Type your queries or 'quit' to exit.\")\n",
    "    while True:\n",
    "        try:\n",
    "            query = input(\"Query: \").strip()\n",
    "            if query.lower()=='quit':\n",
    "                break\n",
    "            assistant_answer = process_query(query)\n",
    "            print(\"\\nAssistant:\", assistant_answer)\n",
    "        except Exception as e:\n",
    "            print(f\"\\nError: {str(e)}\")"
   ]
  },
  {
   "cell_type": "code",
   "execution_count": 19,
   "id": "1c35aa51-8efd-4a09-9518-0ddce7cf8bb9",
   "metadata": {},
   "outputs": [
    {
     "name": "stdout",
     "output_type": "stream",
     "text": [
      "Type your queries or 'quit' to exit.\n"
     ]
    },
    {
     "name": "stdin",
     "output_type": "stream",
     "text": [
      "Query:  What's 1+1?\n"
     ]
    },
    {
     "name": "stdout",
     "output_type": "stream",
     "text": [
      "\n",
      "Assistant: 1 + 1 = 2\n"
     ]
    },
    {
     "name": "stdin",
     "output_type": "stream",
     "text": [
      "Query:  add 3 \n"
     ]
    },
    {
     "name": "stdout",
     "output_type": "stream",
     "text": [
      "\n",
      "Assistant: 2 + 3 = 5\n"
     ]
    },
    {
     "name": "stdin",
     "output_type": "stream",
     "text": [
      "Query:  thank you. \n"
     ]
    },
    {
     "name": "stdout",
     "output_type": "stream",
     "text": [
      "\n",
      "Assistant: You're welcome! Happy to help with the math.\n"
     ]
    },
    {
     "name": "stdin",
     "output_type": "stream",
     "text": [
      "Query:  quit\n"
     ]
    }
   ],
   "source": [
    "chat_loop()"
   ]
  },
  {
   "cell_type": "code",
   "execution_count": null,
   "id": "192069d4-64fd-4ff9-a19f-39e5c1172082",
   "metadata": {},
   "outputs": [],
   "source": []
  }
 ],
 "metadata": {
  "kernelspec": {
   "display_name": "Python 3 (ipykernel)",
   "language": "python",
   "name": "python3"
  },
  "language_info": {
   "codemirror_mode": {
    "name": "ipython",
    "version": 3
   },
   "file_extension": ".py",
   "mimetype": "text/x-python",
   "name": "python",
   "nbconvert_exporter": "python",
   "pygments_lexer": "ipython3",
   "version": "3.11.8"
  }
 },
 "nbformat": 4,
 "nbformat_minor": 5
}
